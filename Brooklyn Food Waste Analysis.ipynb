{
 "cells": [
  {
   "cell_type": "markdown",
   "id": "24e7d094",
   "metadata": {},
   "source": [
    "## Kaggle DataSet of Brooklyn is an Food Stall Dataset."
   ]
  },
  {
   "cell_type": "markdown",
   "id": "88e91afc",
   "metadata": {},
   "source": [
    "### Importing Libraries"
   ]
  },
  {
   "cell_type": "code",
   "execution_count": 1,
   "id": "8005d49c",
   "metadata": {},
   "outputs": [],
   "source": [
    "import numpy as np\n",
    "import pandas as pd\n",
    "import matplotlib.pyplot as mpl\n",
    "import seaborn as sns\n",
    "from sklearn.model_selection import train_test_split\n",
    "from sklearn.tree import DecisionTreeClassifier\n",
    "from sklearn.naive_bayes import GaussianNB\n",
    "from sklearn.metrics import classification_report, confusion_matrix\n",
    "from sklearn.ensemble import RandomForestClassifier\n",
    "from sklearn.preprocessing import LabelEncoder"
   ]
  },
  {
   "cell_type": "markdown",
   "id": "7f942021",
   "metadata": {},
   "source": [
    "### Reading of CSV file and checking Columns"
   ]
  },
  {
   "cell_type": "code",
   "execution_count": 2,
   "id": "f3956e28",
   "metadata": {},
   "outputs": [],
   "source": [
    "data_frame = pd.read_csv('D:/TopMentor/Kaggle DataSets/brooklyn.csv')"
   ]
  },
  {
   "cell_type": "code",
   "execution_count": 3,
   "id": "8a194180",
   "metadata": {},
   "outputs": [],
   "source": [
    "data_frame1 = pd.read_csv('D:/TopMentor/Kaggle DataSets/brooklyn.csv')"
   ]
  },
  {
   "cell_type": "code",
   "execution_count": 4,
   "id": "59fa719b",
   "metadata": {
    "scrolled": true
   },
   "outputs": [
    {
     "data": {
      "text/html": [
       "<div>\n",
       "<style scoped>\n",
       "    .dataframe tbody tr th:only-of-type {\n",
       "        vertical-align: middle;\n",
       "    }\n",
       "\n",
       "    .dataframe tbody tr th {\n",
       "        vertical-align: top;\n",
       "    }\n",
       "\n",
       "    .dataframe thead th {\n",
       "        text-align: right;\n",
       "    }\n",
       "</style>\n",
       "<table border=\"1\" class=\"dataframe\">\n",
       "  <thead>\n",
       "    <tr style=\"text-align: right;\">\n",
       "      <th></th>\n",
       "      <th>id</th>\n",
       "      <th>date_collected</th>\n",
       "      <th>retailer_type</th>\n",
       "      <th>retailer_detail</th>\n",
       "      <th>food_type</th>\n",
       "      <th>food_detail</th>\n",
       "      <th>label_type</th>\n",
       "      <th>label_language</th>\n",
       "      <th>label_date</th>\n",
       "      <th>approximate_dollar_value</th>\n",
       "      <th>image_id</th>\n",
       "      <th>collection_lat</th>\n",
       "      <th>collection_long</th>\n",
       "      <th>label_explanation</th>\n",
       "    </tr>\n",
       "  </thead>\n",
       "  <tbody>\n",
       "    <tr>\n",
       "      <th>0</th>\n",
       "      <td>5e31d5503b85a2e63d634187</td>\n",
       "      <td>2020-01-27</td>\n",
       "      <td>counter service</td>\n",
       "      <td>ready-to-eat and prepackaged health food</td>\n",
       "      <td>ready-to-eat</td>\n",
       "      <td>organic oatmeal</td>\n",
       "      <td>sticker</td>\n",
       "      <td>use by</td>\n",
       "      <td>2020-01-28</td>\n",
       "      <td>5.25</td>\n",
       "      <td>IMG_1872</td>\n",
       "      <td>40.69453</td>\n",
       "      <td>-73.99447</td>\n",
       "      <td>NaN</td>\n",
       "    </tr>\n",
       "    <tr>\n",
       "      <th>1</th>\n",
       "      <td>5e31d5643b85a2e63d634188</td>\n",
       "      <td>2020-01-27</td>\n",
       "      <td>counter service</td>\n",
       "      <td>ready-to-eat and prepackaged health food</td>\n",
       "      <td>ready-to-eat</td>\n",
       "      <td>organic oatmeal</td>\n",
       "      <td>sticker</td>\n",
       "      <td>use by</td>\n",
       "      <td>2020-01-28</td>\n",
       "      <td>5.25</td>\n",
       "      <td>IMG_1873</td>\n",
       "      <td>40.69453</td>\n",
       "      <td>-73.99447</td>\n",
       "      <td>NaN</td>\n",
       "    </tr>\n",
       "    <tr>\n",
       "      <th>2</th>\n",
       "      <td>5e31d8903b85a2e63d634189</td>\n",
       "      <td>2020-01-27</td>\n",
       "      <td>counter service</td>\n",
       "      <td>ready-to-eat and prepackaged health food</td>\n",
       "      <td>ready-to-eat</td>\n",
       "      <td>organic middle eastern salad</td>\n",
       "      <td>sticker</td>\n",
       "      <td>use by</td>\n",
       "      <td>2020-01-28</td>\n",
       "      <td>10.00</td>\n",
       "      <td>IMG_1874</td>\n",
       "      <td>40.69453</td>\n",
       "      <td>-73.99447</td>\n",
       "      <td>NaN</td>\n",
       "    </tr>\n",
       "    <tr>\n",
       "      <th>3</th>\n",
       "      <td>5e31dcee3b85a2e63d63418a</td>\n",
       "      <td>2020-01-27</td>\n",
       "      <td>counter service</td>\n",
       "      <td>ready-to-eat and prepackaged health food</td>\n",
       "      <td>ready-to-eat</td>\n",
       "      <td>organic oatmeal</td>\n",
       "      <td>sticker</td>\n",
       "      <td>use by</td>\n",
       "      <td>2020-01-28</td>\n",
       "      <td>6.25</td>\n",
       "      <td>IMG_1875</td>\n",
       "      <td>40.69453</td>\n",
       "      <td>-73.99447</td>\n",
       "      <td>NaN</td>\n",
       "    </tr>\n",
       "    <tr>\n",
       "      <th>4</th>\n",
       "      <td>5e31dd273b85a2e63d63418b</td>\n",
       "      <td>2020-01-27</td>\n",
       "      <td>counter service</td>\n",
       "      <td>ready-to-eat and prepackaged health food</td>\n",
       "      <td>ready-to-eat</td>\n",
       "      <td>organic mexican salad</td>\n",
       "      <td>sticker</td>\n",
       "      <td>use by</td>\n",
       "      <td>2020-01-28</td>\n",
       "      <td>10.00</td>\n",
       "      <td>IMG_1876</td>\n",
       "      <td>40.69453</td>\n",
       "      <td>-73.99447</td>\n",
       "      <td>NaN</td>\n",
       "    </tr>\n",
       "    <tr>\n",
       "      <th>5</th>\n",
       "      <td>5e31dda03b85a2e63d63418c</td>\n",
       "      <td>2020-01-27</td>\n",
       "      <td>counter service</td>\n",
       "      <td>ready-to-eat and prepackaged health food</td>\n",
       "      <td>packaged</td>\n",
       "      <td>organic energy bar</td>\n",
       "      <td>sticker</td>\n",
       "      <td>12619</td>\n",
       "      <td>2020-01-30</td>\n",
       "      <td>3.50</td>\n",
       "      <td>IMG_1877</td>\n",
       "      <td>40.69453</td>\n",
       "      <td>-73.99447</td>\n",
       "      <td>NaN</td>\n",
       "    </tr>\n",
       "    <tr>\n",
       "      <th>6</th>\n",
       "      <td>5e31ddb33b85a2e63d63418d</td>\n",
       "      <td>2020-01-27</td>\n",
       "      <td>counter service</td>\n",
       "      <td>ready-to-eat and prepackaged health food</td>\n",
       "      <td>packaged</td>\n",
       "      <td>organic energy bar</td>\n",
       "      <td>sticker</td>\n",
       "      <td>12619</td>\n",
       "      <td>2020-01-30</td>\n",
       "      <td>3.50</td>\n",
       "      <td>IMG_1879</td>\n",
       "      <td>40.69453</td>\n",
       "      <td>-73.99447</td>\n",
       "      <td>NaN</td>\n",
       "    </tr>\n",
       "    <tr>\n",
       "      <th>7</th>\n",
       "      <td>5e31ddd23b85a2e63d63418e</td>\n",
       "      <td>2020-01-27</td>\n",
       "      <td>counter service</td>\n",
       "      <td>ready-to-eat and prepackaged health food</td>\n",
       "      <td>packaged</td>\n",
       "      <td>organic energy bar</td>\n",
       "      <td>sticker</td>\n",
       "      <td>12619</td>\n",
       "      <td>2020-01-30</td>\n",
       "      <td>3.50</td>\n",
       "      <td>IMG_1880</td>\n",
       "      <td>40.69453</td>\n",
       "      <td>-73.99447</td>\n",
       "      <td>NaN</td>\n",
       "    </tr>\n",
       "    <tr>\n",
       "      <th>8</th>\n",
       "      <td>5e31dde13b85a2e63d63418f</td>\n",
       "      <td>2020-01-27</td>\n",
       "      <td>counter service</td>\n",
       "      <td>ready-to-eat and prepackaged health food</td>\n",
       "      <td>packaged</td>\n",
       "      <td>organic energy bar</td>\n",
       "      <td>sticker</td>\n",
       "      <td>12619</td>\n",
       "      <td>2020-01-30</td>\n",
       "      <td>3.50</td>\n",
       "      <td>IMG_1881</td>\n",
       "      <td>40.69453</td>\n",
       "      <td>-73.99447</td>\n",
       "      <td>NaN</td>\n",
       "    </tr>\n",
       "    <tr>\n",
       "      <th>9</th>\n",
       "      <td>5e442b00c435958777371fc6</td>\n",
       "      <td>2020-02-11</td>\n",
       "      <td>health food grocer</td>\n",
       "      <td>ready-to-eat, shelf-stable, frozen, and perish...</td>\n",
       "      <td>perishable</td>\n",
       "      <td>yogurt</td>\n",
       "      <td>package printed</td>\n",
       "      <td>NaN</td>\n",
       "      <td>2020-02-11</td>\n",
       "      <td>3.99</td>\n",
       "      <td>IMG_1897</td>\n",
       "      <td>40.69335</td>\n",
       "      <td>-73.99150</td>\n",
       "      <td>NaN</td>\n",
       "    </tr>\n",
       "    <tr>\n",
       "      <th>10</th>\n",
       "      <td>5e442be9c435958777371fc7</td>\n",
       "      <td>2020-02-11</td>\n",
       "      <td>health food grocer</td>\n",
       "      <td>ready-to-eat, shelf-stable, frozen, and perish...</td>\n",
       "      <td>perishable</td>\n",
       "      <td>yogurt</td>\n",
       "      <td>package printed</td>\n",
       "      <td>NaN</td>\n",
       "      <td>2020-02-11</td>\n",
       "      <td>3.99</td>\n",
       "      <td>IMG_1898</td>\n",
       "      <td>40.69335</td>\n",
       "      <td>-73.99150</td>\n",
       "      <td>NaN</td>\n",
       "    </tr>\n",
       "    <tr>\n",
       "      <th>11</th>\n",
       "      <td>5e442cf0c435958777371fc8</td>\n",
       "      <td>2020-02-11</td>\n",
       "      <td>health food grocer</td>\n",
       "      <td>ready-to-eat, shelf-stable, frozen, and perish...</td>\n",
       "      <td>perishable</td>\n",
       "      <td>organic yogurt</td>\n",
       "      <td>package printed</td>\n",
       "      <td>NaN</td>\n",
       "      <td>2020-02-11</td>\n",
       "      <td>3.99</td>\n",
       "      <td>IMG_1899</td>\n",
       "      <td>40.69335</td>\n",
       "      <td>-73.99150</td>\n",
       "      <td>NaN</td>\n",
       "    </tr>\n",
       "    <tr>\n",
       "      <th>12</th>\n",
       "      <td>5e4435a1c435958777371fc9</td>\n",
       "      <td>2020-02-11</td>\n",
       "      <td>health food grocer</td>\n",
       "      <td>ready-to-eat, shelf-stable, frozen, and perish...</td>\n",
       "      <td>perishable</td>\n",
       "      <td>yogurt</td>\n",
       "      <td>package printed</td>\n",
       "      <td>NaN</td>\n",
       "      <td>2020</td>\n",
       "      <td>1.25</td>\n",
       "      <td>IMG_1900</td>\n",
       "      <td>40.69335</td>\n",
       "      <td>-73.99150</td>\n",
       "      <td>NaN</td>\n",
       "    </tr>\n",
       "    <tr>\n",
       "      <th>13</th>\n",
       "      <td>5e44362fc435958777371fca</td>\n",
       "      <td>2020-02-11</td>\n",
       "      <td>health food grocer</td>\n",
       "      <td>ready-to-eat, shelf-stable, frozen, and perish...</td>\n",
       "      <td>perishable</td>\n",
       "      <td>organic yogurt</td>\n",
       "      <td>package printed</td>\n",
       "      <td>best by</td>\n",
       "      <td>2020-03-25</td>\n",
       "      <td>3.09</td>\n",
       "      <td>IMG_1902</td>\n",
       "      <td>40.69335</td>\n",
       "      <td>-73.99150</td>\n",
       "      <td>NaN</td>\n",
       "    </tr>\n",
       "    <tr>\n",
       "      <th>14</th>\n",
       "      <td>5e44378ec435958777371fcb</td>\n",
       "      <td>2020-02-11</td>\n",
       "      <td>health food grocer</td>\n",
       "      <td>ready-to-eat, shelf-stable, frozen, and perish...</td>\n",
       "      <td>perishable</td>\n",
       "      <td>organic oven roasted chicken breast</td>\n",
       "      <td>package printed</td>\n",
       "      <td>use or freeze by</td>\n",
       "      <td>2020-02-01</td>\n",
       "      <td>8.09</td>\n",
       "      <td>IMG_1905</td>\n",
       "      <td>40.69335</td>\n",
       "      <td>-73.99150</td>\n",
       "      <td>NaN</td>\n",
       "    </tr>\n",
       "    <tr>\n",
       "      <th>15</th>\n",
       "      <td>5e4437c6c435958777371fcc</td>\n",
       "      <td>2020-02-11</td>\n",
       "      <td>health food grocer</td>\n",
       "      <td>ready-to-eat, shelf-stable, frozen, and perish...</td>\n",
       "      <td>perishable</td>\n",
       "      <td>organic oven roasted chicken breast</td>\n",
       "      <td>package printed</td>\n",
       "      <td>use or freeze by</td>\n",
       "      <td>2020-02-07</td>\n",
       "      <td>8.09</td>\n",
       "      <td>IMG_1907</td>\n",
       "      <td>40.69335</td>\n",
       "      <td>-73.99150</td>\n",
       "      <td>NaN</td>\n",
       "    </tr>\n",
       "    <tr>\n",
       "      <th>16</th>\n",
       "      <td>5e4445aac435958777371fcd</td>\n",
       "      <td>2020-02-11</td>\n",
       "      <td>health food grocer</td>\n",
       "      <td>ready-to-eat, shelf-stable, frozen, and perish...</td>\n",
       "      <td>perishable</td>\n",
       "      <td>organic white flour torilla</td>\n",
       "      <td>package printed</td>\n",
       "      <td>NaN</td>\n",
       "      <td>2019-03-31 21:16:00</td>\n",
       "      <td>4.38</td>\n",
       "      <td>IMG_1908</td>\n",
       "      <td>40.69335</td>\n",
       "      <td>-73.99150</td>\n",
       "      <td>NaN</td>\n",
       "    </tr>\n",
       "    <tr>\n",
       "      <th>17</th>\n",
       "      <td>5e4445e8c435958777371fce</td>\n",
       "      <td>2020-02-11</td>\n",
       "      <td>health food grocer</td>\n",
       "      <td>ready-to-eat, shelf-stable, frozen, and perish...</td>\n",
       "      <td>perishable</td>\n",
       "      <td>organic white flour torilla</td>\n",
       "      <td>package printed</td>\n",
       "      <td>NaN</td>\n",
       "      <td>2019-03-31 21:14:00</td>\n",
       "      <td>4.38</td>\n",
       "      <td>IMG_1909</td>\n",
       "      <td>40.69335</td>\n",
       "      <td>-73.99150</td>\n",
       "      <td>NaN</td>\n",
       "    </tr>\n",
       "    <tr>\n",
       "      <th>18</th>\n",
       "      <td>5e444759c435958777371fcf</td>\n",
       "      <td>2020-02-11</td>\n",
       "      <td>health food grocer</td>\n",
       "      <td>ready-to-eat, shelf-stable, frozen, and perish...</td>\n",
       "      <td>perishable</td>\n",
       "      <td>brown rice torilla</td>\n",
       "      <td>package printed</td>\n",
       "      <td>t2513 dv</td>\n",
       "      <td>2019-09-11</td>\n",
       "      <td>4.38</td>\n",
       "      <td>IMG_1910</td>\n",
       "      <td>40.69335</td>\n",
       "      <td>-73.99150</td>\n",
       "      <td>lot numbers indicate the date of production an...</td>\n",
       "    </tr>\n",
       "    <tr>\n",
       "      <th>19</th>\n",
       "      <td>5e4449bcc435958777371fd0</td>\n",
       "      <td>2020-02-11</td>\n",
       "      <td>health food grocer</td>\n",
       "      <td>ready-to-eat, shelf-stable, frozen, and perish...</td>\n",
       "      <td>perishable</td>\n",
       "      <td>organic sprouted grain torilla</td>\n",
       "      <td>sticker</td>\n",
       "      <td>NaN</td>\n",
       "      <td>2020-02-11</td>\n",
       "      <td>4.49</td>\n",
       "      <td>IMG_1911</td>\n",
       "      <td>40.69335</td>\n",
       "      <td>-73.99150</td>\n",
       "      <td>NaN</td>\n",
       "    </tr>\n",
       "    <tr>\n",
       "      <th>20</th>\n",
       "      <td>5e444b3bc435958777371fd1</td>\n",
       "      <td>2020-02-11</td>\n",
       "      <td>health food grocer</td>\n",
       "      <td>ready-to-eat, shelf-stable, frozen, and perish...</td>\n",
       "      <td>perishable</td>\n",
       "      <td>millet and chia sliced bread</td>\n",
       "      <td>sticker</td>\n",
       "      <td>NaN</td>\n",
       "      <td>2020-02-11</td>\n",
       "      <td>6.99</td>\n",
       "      <td>IMG_1912</td>\n",
       "      <td>40.69335</td>\n",
       "      <td>-73.99150</td>\n",
       "      <td>NaN</td>\n",
       "    </tr>\n",
       "    <tr>\n",
       "      <th>21</th>\n",
       "      <td>5e444becc435958777371fd2</td>\n",
       "      <td>2020-02-11</td>\n",
       "      <td>health food grocer</td>\n",
       "      <td>ready-to-eat, shelf-stable, frozen, and perish...</td>\n",
       "      <td>perishable</td>\n",
       "      <td>organic rocky mountain sourdough bread</td>\n",
       "      <td>sticker</td>\n",
       "      <td>NaN</td>\n",
       "      <td>2020-02-11</td>\n",
       "      <td>5.99</td>\n",
       "      <td>IMG_1913</td>\n",
       "      <td>40.69335</td>\n",
       "      <td>-73.99150</td>\n",
       "      <td>NaN</td>\n",
       "    </tr>\n",
       "    <tr>\n",
       "      <th>22</th>\n",
       "      <td>5e444ce5c435958777371fd3</td>\n",
       "      <td>2020-02-11</td>\n",
       "      <td>health food grocer</td>\n",
       "      <td>ready-to-eat, shelf-stable, frozen, and perish...</td>\n",
       "      <td>shelf stable</td>\n",
       "      <td>organic cinnamon sticks</td>\n",
       "      <td>package printed</td>\n",
       "      <td>best by</td>\n",
       "      <td>2022-09-01</td>\n",
       "      <td>5.99</td>\n",
       "      <td>IMG_1915</td>\n",
       "      <td>40.69335</td>\n",
       "      <td>-73.99150</td>\n",
       "      <td>NaN</td>\n",
       "    </tr>\n",
       "    <tr>\n",
       "      <th>23</th>\n",
       "      <td>5e4b37221c21c2a1bf62a7b3</td>\n",
       "      <td>2020-02-11</td>\n",
       "      <td>health food grocer</td>\n",
       "      <td>ready-to-eat, shelf-stable, frozen, and perish...</td>\n",
       "      <td>shelf stable</td>\n",
       "      <td>organic marjoram</td>\n",
       "      <td>package printed</td>\n",
       "      <td>best by</td>\n",
       "      <td>NaN</td>\n",
       "      <td>5.99</td>\n",
       "      <td>IMG_1916</td>\n",
       "      <td>40.69335</td>\n",
       "      <td>-73.99150</td>\n",
       "      <td>NaN</td>\n",
       "    </tr>\n",
       "    <tr>\n",
       "      <th>24</th>\n",
       "      <td>5e4b37ae1c21c2a1bf62a7b4</td>\n",
       "      <td>2020-02-11</td>\n",
       "      <td>health food grocer</td>\n",
       "      <td>ready-to-eat, shelf-stable, frozen, and perish...</td>\n",
       "      <td>perishable</td>\n",
       "      <td>organic sundried tomatoes</td>\n",
       "      <td>package printed</td>\n",
       "      <td>best by</td>\n",
       "      <td>2020-04-15</td>\n",
       "      <td>5.99</td>\n",
       "      <td>IMG_1917</td>\n",
       "      <td>40.69335</td>\n",
       "      <td>-73.99150</td>\n",
       "      <td>NaN</td>\n",
       "    </tr>\n",
       "    <tr>\n",
       "      <th>25</th>\n",
       "      <td>5e4b39b11c21c2a1bf62a7b5</td>\n",
       "      <td>2020-02-11</td>\n",
       "      <td>health food grocer</td>\n",
       "      <td>ready-to-eat, shelf-stable, frozen, and perish...</td>\n",
       "      <td>shelf stable</td>\n",
       "      <td>halva</td>\n",
       "      <td>package printed</td>\n",
       "      <td>by</td>\n",
       "      <td>2021-10-28</td>\n",
       "      <td>5.99</td>\n",
       "      <td>IMG_1918</td>\n",
       "      <td>40.69335</td>\n",
       "      <td>-73.99150</td>\n",
       "      <td>NaN</td>\n",
       "    </tr>\n",
       "    <tr>\n",
       "      <th>26</th>\n",
       "      <td>5e4d3dfda5612b4eadee87c4</td>\n",
       "      <td>2020-02-11</td>\n",
       "      <td>health food grocer</td>\n",
       "      <td>ready-to-eat, shelf-stable, frozen, and perish...</td>\n",
       "      <td>perishable</td>\n",
       "      <td>plant-based sausage</td>\n",
       "      <td>sticker</td>\n",
       "      <td>NaN</td>\n",
       "      <td>2020-02-11</td>\n",
       "      <td>11.29</td>\n",
       "      <td>IMG_1919</td>\n",
       "      <td>40.69335</td>\n",
       "      <td>-73.99150</td>\n",
       "      <td>NaN</td>\n",
       "    </tr>\n",
       "    <tr>\n",
       "      <th>27</th>\n",
       "      <td>5e4d3e1ba5612b4eadee87c5</td>\n",
       "      <td>2020-02-11</td>\n",
       "      <td>health food grocer</td>\n",
       "      <td>ready-to-eat, shelf-stable, frozen, and perish...</td>\n",
       "      <td>perishable</td>\n",
       "      <td>plant-based sausage</td>\n",
       "      <td>sticker</td>\n",
       "      <td>NaN</td>\n",
       "      <td>2020-02-11</td>\n",
       "      <td>11.29</td>\n",
       "      <td>IMG_1921</td>\n",
       "      <td>40.69335</td>\n",
       "      <td>-73.99150</td>\n",
       "      <td>NaN</td>\n",
       "    </tr>\n",
       "    <tr>\n",
       "      <th>28</th>\n",
       "      <td>5e4d3e2ba5612b4eadee87c6</td>\n",
       "      <td>2020-02-11</td>\n",
       "      <td>health food grocer</td>\n",
       "      <td>ready-to-eat, shelf-stable, frozen, and perish...</td>\n",
       "      <td>perishable</td>\n",
       "      <td>plant-based sausage</td>\n",
       "      <td>sticker</td>\n",
       "      <td>NaN</td>\n",
       "      <td>2020-02-11</td>\n",
       "      <td>11.29</td>\n",
       "      <td>IMG_1922</td>\n",
       "      <td>40.69335</td>\n",
       "      <td>-73.99150</td>\n",
       "      <td>NaN</td>\n",
       "    </tr>\n",
       "    <tr>\n",
       "      <th>29</th>\n",
       "      <td>5e4d4971a5612b4eadee87c7</td>\n",
       "      <td>2020-02-11</td>\n",
       "      <td>health food grocer</td>\n",
       "      <td>ready-to-eat, shelf-stable, frozen, and perish...</td>\n",
       "      <td>perishable</td>\n",
       "      <td>organic riced cauliflower</td>\n",
       "      <td>package printed</td>\n",
       "      <td>best if used by</td>\n",
       "      <td>2020-02-10</td>\n",
       "      <td>5.19</td>\n",
       "      <td>IMG_1923</td>\n",
       "      <td>40.69335</td>\n",
       "      <td>-73.99150</td>\n",
       "      <td>NaN</td>\n",
       "    </tr>\n",
       "  </tbody>\n",
       "</table>\n",
       "</div>"
      ],
      "text/plain": [
       "                          id date_collected       retailer_type  \\\n",
       "0   5e31d5503b85a2e63d634187     2020-01-27     counter service   \n",
       "1   5e31d5643b85a2e63d634188     2020-01-27     counter service   \n",
       "2   5e31d8903b85a2e63d634189     2020-01-27     counter service   \n",
       "3   5e31dcee3b85a2e63d63418a     2020-01-27     counter service   \n",
       "4   5e31dd273b85a2e63d63418b     2020-01-27     counter service   \n",
       "5   5e31dda03b85a2e63d63418c     2020-01-27     counter service   \n",
       "6   5e31ddb33b85a2e63d63418d     2020-01-27     counter service   \n",
       "7   5e31ddd23b85a2e63d63418e     2020-01-27     counter service   \n",
       "8   5e31dde13b85a2e63d63418f     2020-01-27     counter service   \n",
       "9   5e442b00c435958777371fc6     2020-02-11  health food grocer   \n",
       "10  5e442be9c435958777371fc7     2020-02-11  health food grocer   \n",
       "11  5e442cf0c435958777371fc8     2020-02-11  health food grocer   \n",
       "12  5e4435a1c435958777371fc9     2020-02-11  health food grocer   \n",
       "13  5e44362fc435958777371fca     2020-02-11  health food grocer   \n",
       "14  5e44378ec435958777371fcb     2020-02-11  health food grocer   \n",
       "15  5e4437c6c435958777371fcc     2020-02-11  health food grocer   \n",
       "16  5e4445aac435958777371fcd     2020-02-11  health food grocer   \n",
       "17  5e4445e8c435958777371fce     2020-02-11  health food grocer   \n",
       "18  5e444759c435958777371fcf     2020-02-11  health food grocer   \n",
       "19  5e4449bcc435958777371fd0     2020-02-11  health food grocer   \n",
       "20  5e444b3bc435958777371fd1     2020-02-11  health food grocer   \n",
       "21  5e444becc435958777371fd2     2020-02-11  health food grocer   \n",
       "22  5e444ce5c435958777371fd3     2020-02-11  health food grocer   \n",
       "23  5e4b37221c21c2a1bf62a7b3     2020-02-11  health food grocer   \n",
       "24  5e4b37ae1c21c2a1bf62a7b4     2020-02-11  health food grocer   \n",
       "25  5e4b39b11c21c2a1bf62a7b5     2020-02-11  health food grocer   \n",
       "26  5e4d3dfda5612b4eadee87c4     2020-02-11  health food grocer   \n",
       "27  5e4d3e1ba5612b4eadee87c5     2020-02-11  health food grocer   \n",
       "28  5e4d3e2ba5612b4eadee87c6     2020-02-11  health food grocer   \n",
       "29  5e4d4971a5612b4eadee87c7     2020-02-11  health food grocer   \n",
       "\n",
       "                                      retailer_detail     food_type  \\\n",
       "0            ready-to-eat and prepackaged health food  ready-to-eat   \n",
       "1            ready-to-eat and prepackaged health food  ready-to-eat   \n",
       "2            ready-to-eat and prepackaged health food  ready-to-eat   \n",
       "3            ready-to-eat and prepackaged health food  ready-to-eat   \n",
       "4            ready-to-eat and prepackaged health food  ready-to-eat   \n",
       "5            ready-to-eat and prepackaged health food      packaged   \n",
       "6            ready-to-eat and prepackaged health food      packaged   \n",
       "7            ready-to-eat and prepackaged health food      packaged   \n",
       "8            ready-to-eat and prepackaged health food      packaged   \n",
       "9   ready-to-eat, shelf-stable, frozen, and perish...    perishable   \n",
       "10  ready-to-eat, shelf-stable, frozen, and perish...    perishable   \n",
       "11  ready-to-eat, shelf-stable, frozen, and perish...    perishable   \n",
       "12  ready-to-eat, shelf-stable, frozen, and perish...    perishable   \n",
       "13  ready-to-eat, shelf-stable, frozen, and perish...    perishable   \n",
       "14  ready-to-eat, shelf-stable, frozen, and perish...    perishable   \n",
       "15  ready-to-eat, shelf-stable, frozen, and perish...    perishable   \n",
       "16  ready-to-eat, shelf-stable, frozen, and perish...    perishable   \n",
       "17  ready-to-eat, shelf-stable, frozen, and perish...    perishable   \n",
       "18  ready-to-eat, shelf-stable, frozen, and perish...    perishable   \n",
       "19  ready-to-eat, shelf-stable, frozen, and perish...    perishable   \n",
       "20  ready-to-eat, shelf-stable, frozen, and perish...    perishable   \n",
       "21  ready-to-eat, shelf-stable, frozen, and perish...    perishable   \n",
       "22  ready-to-eat, shelf-stable, frozen, and perish...  shelf stable   \n",
       "23  ready-to-eat, shelf-stable, frozen, and perish...  shelf stable   \n",
       "24  ready-to-eat, shelf-stable, frozen, and perish...    perishable   \n",
       "25  ready-to-eat, shelf-stable, frozen, and perish...  shelf stable   \n",
       "26  ready-to-eat, shelf-stable, frozen, and perish...    perishable   \n",
       "27  ready-to-eat, shelf-stable, frozen, and perish...    perishable   \n",
       "28  ready-to-eat, shelf-stable, frozen, and perish...    perishable   \n",
       "29  ready-to-eat, shelf-stable, frozen, and perish...    perishable   \n",
       "\n",
       "                               food_detail       label_type    label_language  \\\n",
       "0                          organic oatmeal          sticker            use by   \n",
       "1                          organic oatmeal          sticker            use by   \n",
       "2             organic middle eastern salad          sticker            use by   \n",
       "3                          organic oatmeal          sticker            use by   \n",
       "4                    organic mexican salad          sticker            use by   \n",
       "5                       organic energy bar          sticker             12619   \n",
       "6                       organic energy bar          sticker             12619   \n",
       "7                       organic energy bar          sticker             12619   \n",
       "8                       organic energy bar          sticker             12619   \n",
       "9                                   yogurt  package printed               NaN   \n",
       "10                                  yogurt  package printed               NaN   \n",
       "11                          organic yogurt  package printed               NaN   \n",
       "12                                  yogurt  package printed               NaN   \n",
       "13                          organic yogurt  package printed           best by   \n",
       "14     organic oven roasted chicken breast  package printed  use or freeze by   \n",
       "15     organic oven roasted chicken breast  package printed  use or freeze by   \n",
       "16             organic white flour torilla  package printed               NaN   \n",
       "17             organic white flour torilla  package printed               NaN   \n",
       "18                      brown rice torilla  package printed          t2513 dv   \n",
       "19          organic sprouted grain torilla          sticker               NaN   \n",
       "20            millet and chia sliced bread          sticker               NaN   \n",
       "21  organic rocky mountain sourdough bread          sticker               NaN   \n",
       "22                 organic cinnamon sticks  package printed           best by   \n",
       "23                        organic marjoram  package printed           best by   \n",
       "24               organic sundried tomatoes  package printed           best by   \n",
       "25                                   halva  package printed                by   \n",
       "26                     plant-based sausage          sticker               NaN   \n",
       "27                     plant-based sausage          sticker               NaN   \n",
       "28                     plant-based sausage          sticker               NaN   \n",
       "29               organic riced cauliflower  package printed   best if used by   \n",
       "\n",
       "             label_date  approximate_dollar_value  image_id  collection_lat  \\\n",
       "0            2020-01-28                      5.25  IMG_1872        40.69453   \n",
       "1            2020-01-28                      5.25  IMG_1873        40.69453   \n",
       "2            2020-01-28                     10.00  IMG_1874        40.69453   \n",
       "3            2020-01-28                      6.25  IMG_1875        40.69453   \n",
       "4            2020-01-28                     10.00  IMG_1876        40.69453   \n",
       "5            2020-01-30                      3.50  IMG_1877        40.69453   \n",
       "6            2020-01-30                      3.50  IMG_1879        40.69453   \n",
       "7            2020-01-30                      3.50  IMG_1880        40.69453   \n",
       "8            2020-01-30                      3.50  IMG_1881        40.69453   \n",
       "9            2020-02-11                      3.99  IMG_1897        40.69335   \n",
       "10           2020-02-11                      3.99  IMG_1898        40.69335   \n",
       "11           2020-02-11                      3.99  IMG_1899        40.69335   \n",
       "12                 2020                      1.25  IMG_1900        40.69335   \n",
       "13           2020-03-25                      3.09  IMG_1902        40.69335   \n",
       "14           2020-02-01                      8.09  IMG_1905        40.69335   \n",
       "15           2020-02-07                      8.09  IMG_1907        40.69335   \n",
       "16  2019-03-31 21:16:00                      4.38  IMG_1908        40.69335   \n",
       "17  2019-03-31 21:14:00                      4.38  IMG_1909        40.69335   \n",
       "18           2019-09-11                      4.38  IMG_1910        40.69335   \n",
       "19           2020-02-11                      4.49  IMG_1911        40.69335   \n",
       "20           2020-02-11                      6.99  IMG_1912        40.69335   \n",
       "21           2020-02-11                      5.99  IMG_1913        40.69335   \n",
       "22           2022-09-01                      5.99  IMG_1915        40.69335   \n",
       "23                  NaN                      5.99  IMG_1916        40.69335   \n",
       "24           2020-04-15                      5.99  IMG_1917        40.69335   \n",
       "25           2021-10-28                      5.99  IMG_1918        40.69335   \n",
       "26           2020-02-11                     11.29  IMG_1919        40.69335   \n",
       "27           2020-02-11                     11.29  IMG_1921        40.69335   \n",
       "28           2020-02-11                     11.29  IMG_1922        40.69335   \n",
       "29           2020-02-10                      5.19  IMG_1923        40.69335   \n",
       "\n",
       "    collection_long                                  label_explanation  \n",
       "0         -73.99447                                                NaN  \n",
       "1         -73.99447                                                NaN  \n",
       "2         -73.99447                                                NaN  \n",
       "3         -73.99447                                                NaN  \n",
       "4         -73.99447                                                NaN  \n",
       "5         -73.99447                                                NaN  \n",
       "6         -73.99447                                                NaN  \n",
       "7         -73.99447                                                NaN  \n",
       "8         -73.99447                                                NaN  \n",
       "9         -73.99150                                                NaN  \n",
       "10        -73.99150                                                NaN  \n",
       "11        -73.99150                                                NaN  \n",
       "12        -73.99150                                                NaN  \n",
       "13        -73.99150                                                NaN  \n",
       "14        -73.99150                                                NaN  \n",
       "15        -73.99150                                                NaN  \n",
       "16        -73.99150                                                NaN  \n",
       "17        -73.99150                                                NaN  \n",
       "18        -73.99150  lot numbers indicate the date of production an...  \n",
       "19        -73.99150                                                NaN  \n",
       "20        -73.99150                                                NaN  \n",
       "21        -73.99150                                                NaN  \n",
       "22        -73.99150                                                NaN  \n",
       "23        -73.99150                                                NaN  \n",
       "24        -73.99150                                                NaN  \n",
       "25        -73.99150                                                NaN  \n",
       "26        -73.99150                                                NaN  \n",
       "27        -73.99150                                                NaN  \n",
       "28        -73.99150                                                NaN  \n",
       "29        -73.99150                                                NaN  "
      ]
     },
     "execution_count": 4,
     "metadata": {},
     "output_type": "execute_result"
    }
   ],
   "source": [
    "data_frame.head(30)"
   ]
  },
  {
   "cell_type": "markdown",
   "id": "6698684f",
   "metadata": {},
   "source": [
    "### Creating List of Columns to Drop"
   ]
  },
  {
   "cell_type": "code",
   "execution_count": 5,
   "id": "77f07864",
   "metadata": {},
   "outputs": [],
   "source": [
    "to_drop = ['id', 'date_collected', 'label_type', 'label_language', 'label_date', 'approximate_dollar_value',\n",
    "          'image_id', 'collection_lat', 'collection_long', 'label_explanation']\n",
    "\n",
    "data_frame = data_frame.drop(to_drop, axis = 'columns')"
   ]
  },
  {
   "cell_type": "code",
   "execution_count": 6,
   "id": "ae3e6c51",
   "metadata": {},
   "outputs": [
    {
     "data": {
      "text/plain": [
       "perishable      102\n",
       "packaged         49\n",
       "ready-to-eat     16\n",
       "shelf stable      4\n",
       "Name: food_type, dtype: int64"
      ]
     },
     "execution_count": 6,
     "metadata": {},
     "output_type": "execute_result"
    }
   ],
   "source": [
    "data_frame['food_type'].value_counts()"
   ]
  },
  {
   "cell_type": "markdown",
   "id": "f311bd1d",
   "metadata": {},
   "source": [
    "### Handling labels using Label Encoder"
   ]
  },
  {
   "cell_type": "code",
   "execution_count": 7,
   "id": "e8857556",
   "metadata": {},
   "outputs": [],
   "source": [
    "label_encoder = LabelEncoder()"
   ]
  },
  {
   "cell_type": "code",
   "execution_count": 8,
   "id": "831df80c",
   "metadata": {},
   "outputs": [],
   "source": [
    "data_frame['retailer_type'] = label_encoder.fit_transform(data_frame['retailer_type'])"
   ]
  },
  {
   "cell_type": "code",
   "execution_count": 9,
   "id": "abee362b",
   "metadata": {},
   "outputs": [],
   "source": [
    "data_frame['retailer_detail'] = label_encoder.fit_transform(data_frame['retailer_detail'])"
   ]
  },
  {
   "cell_type": "code",
   "execution_count": 10,
   "id": "aa68e678",
   "metadata": {},
   "outputs": [],
   "source": [
    "data_frame['food_type'] = label_encoder.fit_transform(data_frame['food_type'])"
   ]
  },
  {
   "cell_type": "code",
   "execution_count": 11,
   "id": "71ba1b0e",
   "metadata": {},
   "outputs": [],
   "source": [
    "data_frame['food_detail'] = label_encoder.fit_transform(data_frame['food_detail'])"
   ]
  },
  {
   "cell_type": "code",
   "execution_count": 12,
   "id": "737811b5",
   "metadata": {},
   "outputs": [
    {
     "data": {
      "text/html": [
       "<div>\n",
       "<style scoped>\n",
       "    .dataframe tbody tr th:only-of-type {\n",
       "        vertical-align: middle;\n",
       "    }\n",
       "\n",
       "    .dataframe tbody tr th {\n",
       "        vertical-align: top;\n",
       "    }\n",
       "\n",
       "    .dataframe thead th {\n",
       "        text-align: right;\n",
       "    }\n",
       "</style>\n",
       "<table border=\"1\" class=\"dataframe\">\n",
       "  <thead>\n",
       "    <tr style=\"text-align: right;\">\n",
       "      <th></th>\n",
       "      <th>retailer_type</th>\n",
       "      <th>retailer_detail</th>\n",
       "      <th>food_type</th>\n",
       "      <th>food_detail</th>\n",
       "    </tr>\n",
       "  </thead>\n",
       "  <tbody>\n",
       "    <tr>\n",
       "      <th>0</th>\n",
       "      <td>3</td>\n",
       "      <td>1</td>\n",
       "      <td>2</td>\n",
       "      <td>49</td>\n",
       "    </tr>\n",
       "    <tr>\n",
       "      <th>1</th>\n",
       "      <td>3</td>\n",
       "      <td>1</td>\n",
       "      <td>2</td>\n",
       "      <td>49</td>\n",
       "    </tr>\n",
       "    <tr>\n",
       "      <th>2</th>\n",
       "      <td>3</td>\n",
       "      <td>1</td>\n",
       "      <td>2</td>\n",
       "      <td>48</td>\n",
       "    </tr>\n",
       "    <tr>\n",
       "      <th>3</th>\n",
       "      <td>3</td>\n",
       "      <td>1</td>\n",
       "      <td>2</td>\n",
       "      <td>49</td>\n",
       "    </tr>\n",
       "    <tr>\n",
       "      <th>4</th>\n",
       "      <td>3</td>\n",
       "      <td>1</td>\n",
       "      <td>2</td>\n",
       "      <td>47</td>\n",
       "    </tr>\n",
       "    <tr>\n",
       "      <th>5</th>\n",
       "      <td>3</td>\n",
       "      <td>1</td>\n",
       "      <td>0</td>\n",
       "      <td>45</td>\n",
       "    </tr>\n",
       "    <tr>\n",
       "      <th>6</th>\n",
       "      <td>3</td>\n",
       "      <td>1</td>\n",
       "      <td>0</td>\n",
       "      <td>45</td>\n",
       "    </tr>\n",
       "    <tr>\n",
       "      <th>7</th>\n",
       "      <td>3</td>\n",
       "      <td>1</td>\n",
       "      <td>0</td>\n",
       "      <td>45</td>\n",
       "    </tr>\n",
       "    <tr>\n",
       "      <th>8</th>\n",
       "      <td>3</td>\n",
       "      <td>1</td>\n",
       "      <td>0</td>\n",
       "      <td>45</td>\n",
       "    </tr>\n",
       "    <tr>\n",
       "      <th>9</th>\n",
       "      <td>5</td>\n",
       "      <td>4</td>\n",
       "      <td>1</td>\n",
       "      <td>83</td>\n",
       "    </tr>\n",
       "  </tbody>\n",
       "</table>\n",
       "</div>"
      ],
      "text/plain": [
       "   retailer_type  retailer_detail  food_type  food_detail\n",
       "0              3                1          2           49\n",
       "1              3                1          2           49\n",
       "2              3                1          2           48\n",
       "3              3                1          2           49\n",
       "4              3                1          2           47\n",
       "5              3                1          0           45\n",
       "6              3                1          0           45\n",
       "7              3                1          0           45\n",
       "8              3                1          0           45\n",
       "9              5                4          1           83"
      ]
     },
     "execution_count": 12,
     "metadata": {},
     "output_type": "execute_result"
    }
   ],
   "source": [
    "data_frame.head(10)"
   ]
  },
  {
   "cell_type": "code",
   "execution_count": 13,
   "id": "6c677793",
   "metadata": {
    "scrolled": true
   },
   "outputs": [
    {
     "name": "stdout",
     "output_type": "stream",
     "text": [
      "1    102\n",
      "0     49\n",
      "2     16\n",
      "3      4\n",
      "Name: food_type, dtype: int64\n",
      "[2 2 2 2 2 0 0 0 0 1 1 1 1 1 1 1 1 1 1 1 1 1 3 3 1 3 1 1 1 1 1 1 1 1 1 1 1\n",
      " 1 1 1 1 1 1 1 1 1 2 2 0 1 1 1 2 2 2 2 2 2 2 2 2 0 0 0 0 0 0 0 0 0 0 0 0 0\n",
      " 0 0 0 0 0 0 0 0 0 0 0 0 0 0 0 0 0 0 0 0 0 0 0 0 0 0 0 0 0 0 1 1 1 1 1 1 1\n",
      " 1 1 1 1 1 1 1 1 1 1 1 1 1 1 1 1 1 1 1 1 1 1 1 1 1 1 1 1 1 1 1 1 1 1 1 1 1\n",
      " 3 1 1 1 1 1 1 1 1 1 1 1 1 1 1 1 1 1 1 1 1 1 0]\n",
      "Package : 0\n",
      "Perishable : 1\n",
      "Read-to-eat : 2\n",
      "Shelf Table : 3\n"
     ]
    }
   ],
   "source": [
    "print(data_frame.food_type.value_counts())\n",
    "print(data_frame.food_type.values)\n",
    "print('Package : 0\\nPerishable : 1\\nRead-to-eat : 2\\nShelf Table : 3')"
   ]
  },
  {
   "cell_type": "code",
   "execution_count": 14,
   "id": "931286b5",
   "metadata": {},
   "outputs": [
    {
     "data": {
      "text/plain": [
       "(171, 4)"
      ]
     },
     "execution_count": 14,
     "metadata": {},
     "output_type": "execute_result"
    }
   ],
   "source": [
    "data_frame.shape"
   ]
  },
  {
   "cell_type": "markdown",
   "id": "3924d0f7",
   "metadata": {},
   "source": [
    "### Checking Null Values to Handle Missing values"
   ]
  },
  {
   "cell_type": "code",
   "execution_count": 15,
   "id": "58447578",
   "metadata": {},
   "outputs": [
    {
     "data": {
      "text/plain": [
       "retailer_type      0\n",
       "retailer_detail    0\n",
       "food_type          0\n",
       "food_detail        0\n",
       "dtype: int64"
      ]
     },
     "execution_count": 15,
     "metadata": {},
     "output_type": "execute_result"
    }
   ],
   "source": [
    "data_frame.isnull().sum()"
   ]
  },
  {
   "cell_type": "markdown",
   "id": "b470333f",
   "metadata": {},
   "source": [
    "### Checking the Outlier "
   ]
  },
  {
   "cell_type": "code",
   "execution_count": 16,
   "id": "64af823a",
   "metadata": {},
   "outputs": [
    {
     "name": "stderr",
     "output_type": "stream",
     "text": [
      "C:\\Users\\prajw\\Anaconda3\\lib\\site-packages\\seaborn\\_decorators.py:36: FutureWarning: Pass the following variable as a keyword arg: x. From version 0.12, the only valid positional argument will be `data`, and passing other arguments without an explicit keyword will result in an error or misinterpretation.\n",
      "  warnings.warn(\n"
     ]
    },
    {
     "data": {
      "text/plain": [
       "<AxesSubplot:xlabel='retailer_type'>"
      ]
     },
     "execution_count": 16,
     "metadata": {},
     "output_type": "execute_result"
    },
    {
     "data": {
      "image/png": "[encoded data removed]",
      "text/plain": [
       "<Figure size 432x288 with 1 Axes>"
      ]
     },
     "metadata": {
      "needs_background": "light"
     },
     "output_type": "display_data"
    }
   ],
   "source": [
    "sns.boxplot('retailer_type', data = data_frame) # No Outlier"
   ]
  },
  {
   "cell_type": "code",
   "execution_count": 17,
   "id": "4472bb6a",
   "metadata": {},
   "outputs": [
    {
     "name": "stderr",
     "output_type": "stream",
     "text": [
      "C:\\Users\\prajw\\Anaconda3\\lib\\site-packages\\seaborn\\_decorators.py:36: FutureWarning: Pass the following variable as a keyword arg: x. From version 0.12, the only valid positional argument will be `data`, and passing other arguments without an explicit keyword will result in an error or misinterpretation.\n",
      "  warnings.warn(\n"
     ]
    },
    {
     "data": {
      "text/plain": [
       "<AxesSubplot:xlabel='retailer_detail'>"
      ]
     },
     "execution_count": 17,
     "metadata": {},
     "output_type": "execute_result"
    },
    {
     "data": {
      "image/png": "[encoded data removed]",
      "text/plain": [
       "<Figure size 432x288 with 1 Axes>"
      ]
     },
     "metadata": {
      "needs_background": "light"
     },
     "output_type": "display_data"
    }
   ],
   "source": [
    "sns.boxplot('retailer_detail', data = data_frame)  # No Outlier"
   ]
  },
  {
   "cell_type": "code",
   "execution_count": 18,
   "id": "4f8c9c69",
   "metadata": {},
   "outputs": [
    {
     "name": "stderr",
     "output_type": "stream",
     "text": [
      "C:\\Users\\prajw\\Anaconda3\\lib\\site-packages\\seaborn\\_decorators.py:36: FutureWarning: Pass the following variable as a keyword arg: x. From version 0.12, the only valid positional argument will be `data`, and passing other arguments without an explicit keyword will result in an error or misinterpretation.\n",
      "  warnings.warn(\n"
     ]
    },
    {
     "data": {
      "text/plain": [
       "<AxesSubplot:xlabel='food_type'>"
      ]
     },
     "execution_count": 18,
     "metadata": {},
     "output_type": "execute_result"
    },
    {
     "data": {
      "image/png": "[encoded data removed]",
      "text/plain": [
       "<Figure size 432x288 with 1 Axes>"
      ]
     },
     "metadata": {
      "needs_background": "light"
     },
     "output_type": "display_data"
    }
   ],
   "source": [
    "sns.boxplot('food_type', data = data_frame)  # Outlier"
   ]
  },
  {
   "cell_type": "code",
   "execution_count": 19,
   "id": "a8702c00",
   "metadata": {},
   "outputs": [
    {
     "name": "stderr",
     "output_type": "stream",
     "text": [
      "C:\\Users\\prajw\\Anaconda3\\lib\\site-packages\\seaborn\\_decorators.py:36: FutureWarning: Pass the following variable as a keyword arg: x. From version 0.12, the only valid positional argument will be `data`, and passing other arguments without an explicit keyword will result in an error or misinterpretation.\n",
      "  warnings.warn(\n"
     ]
    },
    {
     "data": {
      "text/plain": [
       "<AxesSubplot:xlabel='food_detail'>"
      ]
     },
     "execution_count": 19,
     "metadata": {},
     "output_type": "execute_result"
    },
    {
     "data": {
      "image/png": "[encoded data removed]",
      "text/plain": [
       "<Figure size 432x288 with 1 Axes>"
      ]
     },
     "metadata": {
      "needs_background": "light"
     },
     "output_type": "display_data"
    }
   ],
   "source": [
    "sns.boxplot('food_detail', data = data_frame) # No Outlier"
   ]
  },
  {
   "cell_type": "markdown",
   "id": "322b2f8e",
   "metadata": {},
   "source": [
    "### Some Data Visualization Before Jumping to Model_Selection"
   ]
  },
  {
   "cell_type": "markdown",
   "id": "1f5a67a1",
   "metadata": {},
   "source": [
    "### Displots"
   ]
  },
  {
   "cell_type": "code",
   "execution_count": 20,
   "id": "07e84ee3",
   "metadata": {},
   "outputs": [
    {
     "data": {
      "text/plain": [
       "<seaborn.axisgrid.FacetGrid at 0x1ef859be730>"
      ]
     },
     "execution_count": 20,
     "metadata": {},
     "output_type": "execute_result"
    },
    {
     "data": {
      "image/png": "[encoded data removed]",
      "text/plain": [
       "<Figure size 360x360 with 1 Axes>"
      ]
     },
     "metadata": {
      "needs_background": "light"
     },
     "output_type": "display_data"
    }
   ],
   "source": [
    "sns.displot(data_frame.retailer_detail, kde = True, color='red', rug=True)"
   ]
  },
  {
   "cell_type": "code",
   "execution_count": 21,
   "id": "ce202663",
   "metadata": {},
   "outputs": [
    {
     "data": {
      "text/plain": [
       "<seaborn.axisgrid.FacetGrid at 0x1ef85a4ffa0>"
      ]
     },
     "execution_count": 21,
     "metadata": {},
     "output_type": "execute_result"
    },
    {
     "data": {
      "image/png": "[encoded data removed]",
      "text/plain": [
       "<Figure size 360x360 with 1 Axes>"
      ]
     },
     "metadata": {
      "needs_background": "light"
     },
     "output_type": "display_data"
    }
   ],
   "source": [
    "sns.displot(data_frame.food_detail, kde = True)"
   ]
  },
  {
   "cell_type": "code",
   "execution_count": 22,
   "id": "9bc0a8e2",
   "metadata": {},
   "outputs": [
    {
     "name": "stderr",
     "output_type": "stream",
     "text": [
      "C:\\Users\\prajw\\Anaconda3\\lib\\site-packages\\seaborn\\_decorators.py:36: FutureWarning: Pass the following variables as keyword args: x, y. From version 0.12, the only valid positional argument will be `data`, and passing other arguments without an explicit keyword will result in an error or misinterpretation.\n",
      "  warnings.warn(\n",
      "C:\\Users\\prajw\\Anaconda3\\lib\\site-packages\\seaborn\\categorical.py:1296: UserWarning: 66.7% of the points cannot be placed; you may want to decrease the size of the markers or use stripplot.\n",
      "  warnings.warn(msg, UserWarning)\n",
      "C:\\Users\\prajw\\Anaconda3\\lib\\site-packages\\seaborn\\categorical.py:1296: UserWarning: 75.0% of the points cannot be placed; you may want to decrease the size of the markers or use stripplot.\n",
      "  warnings.warn(msg, UserWarning)\n",
      "C:\\Users\\prajw\\Anaconda3\\lib\\site-packages\\seaborn\\categorical.py:1296: UserWarning: 88.9% of the points cannot be placed; you may want to decrease the size of the markers or use stripplot.\n",
      "  warnings.warn(msg, UserWarning)\n",
      "C:\\Users\\prajw\\Anaconda3\\lib\\site-packages\\seaborn\\categorical.py:1296: UserWarning: 50.0% of the points cannot be placed; you may want to decrease the size of the markers or use stripplot.\n",
      "  warnings.warn(msg, UserWarning)\n",
      "C:\\Users\\prajw\\Anaconda3\\lib\\site-packages\\seaborn\\categorical.py:1296: UserWarning: 80.0% of the points cannot be placed; you may want to decrease the size of the markers or use stripplot.\n",
      "  warnings.warn(msg, UserWarning)\n",
      "C:\\Users\\prajw\\Anaconda3\\lib\\site-packages\\seaborn\\categorical.py:1296: UserWarning: 85.7% of the points cannot be placed; you may want to decrease the size of the markers or use stripplot.\n",
      "  warnings.warn(msg, UserWarning)\n",
      "C:\\Users\\prajw\\Anaconda3\\lib\\site-packages\\seaborn\\categorical.py:1296: UserWarning: 33.3% of the points cannot be placed; you may want to decrease the size of the markers or use stripplot.\n",
      "  warnings.warn(msg, UserWarning)\n"
     ]
    },
    {
     "data": {
      "text/plain": [
       "<AxesSubplot:xlabel='food_detail', ylabel='retailer_type'>"
      ]
     },
     "execution_count": 22,
     "metadata": {},
     "output_type": "execute_result"
    },
    {
     "data": {
      "image/png": "[encoded data removed]",
      "text/plain": [
       "<Figure size 432x288 with 1 Axes>"
      ]
     },
     "metadata": {
      "needs_background": "light"
     },
     "output_type": "display_data"
    }
   ],
   "source": [
    "sns.swarmplot(data_frame1.food_detail, data_frame.retailer_type, orient='v')"
   ]
  },
  {
   "cell_type": "markdown",
   "id": "e9fa99ee",
   "metadata": {},
   "source": [
    "### Creating IQR (Inter Quartile Range) for Handling Outlier"
   ]
  },
  {
   "cell_type": "code",
   "execution_count": 23,
   "id": "239ffa46",
   "metadata": {},
   "outputs": [
    {
     "data": {
      "text/plain": [
       "retailer_type       1.0\n",
       "retailer_detail     1.0\n",
       "food_type           0.0\n",
       "food_detail        24.0\n",
       "Name: 0.25, dtype: float64"
      ]
     },
     "execution_count": 23,
     "metadata": {},
     "output_type": "execute_result"
    }
   ],
   "source": [
    "Q1 = data_frame.quantile(0.25)\n",
    "Q1"
   ]
  },
  {
   "cell_type": "code",
   "execution_count": 24,
   "id": "615ba708",
   "metadata": {},
   "outputs": [
    {
     "data": {
      "text/plain": [
       "retailer_type       4.0\n",
       "retailer_detail     3.0\n",
       "food_type           1.0\n",
       "food_detail        64.5\n",
       "Name: 0.75, dtype: float64"
      ]
     },
     "execution_count": 24,
     "metadata": {},
     "output_type": "execute_result"
    }
   ],
   "source": [
    "Q3 = data_frame.quantile(0.75)\n",
    "Q3"
   ]
  },
  {
   "cell_type": "code",
   "execution_count": 25,
   "id": "ff065451",
   "metadata": {},
   "outputs": [
    {
     "data": {
      "text/plain": [
       "retailer_type       3.0\n",
       "retailer_detail     2.0\n",
       "food_type           1.0\n",
       "food_detail        40.5\n",
       "dtype: float64"
      ]
     },
     "execution_count": 25,
     "metadata": {},
     "output_type": "execute_result"
    }
   ],
   "source": [
    "IQR = Q3 - Q1\n",
    "IQR"
   ]
  },
  {
   "cell_type": "markdown",
   "id": "3c99a674",
   "metadata": {},
   "source": [
    "### Handling Outlier by using IQR"
   ]
  },
  {
   "cell_type": "code",
   "execution_count": 26,
   "id": "870d6640",
   "metadata": {},
   "outputs": [
    {
     "data": {
      "text/html": [
       "<div>\n",
       "<style scoped>\n",
       "    .dataframe tbody tr th:only-of-type {\n",
       "        vertical-align: middle;\n",
       "    }\n",
       "\n",
       "    .dataframe tbody tr th {\n",
       "        vertical-align: top;\n",
       "    }\n",
       "\n",
       "    .dataframe thead th {\n",
       "        text-align: right;\n",
       "    }\n",
       "</style>\n",
       "<table border=\"1\" class=\"dataframe\">\n",
       "  <thead>\n",
       "    <tr style=\"text-align: right;\">\n",
       "      <th></th>\n",
       "      <th>retailer_type</th>\n",
       "      <th>retailer_detail</th>\n",
       "      <th>food_type</th>\n",
       "      <th>food_detail</th>\n",
       "    </tr>\n",
       "  </thead>\n",
       "  <tbody>\n",
       "    <tr>\n",
       "      <th>0</th>\n",
       "      <td>3</td>\n",
       "      <td>1</td>\n",
       "      <td>2.0</td>\n",
       "      <td>49</td>\n",
       "    </tr>\n",
       "    <tr>\n",
       "      <th>1</th>\n",
       "      <td>3</td>\n",
       "      <td>1</td>\n",
       "      <td>2.0</td>\n",
       "      <td>49</td>\n",
       "    </tr>\n",
       "    <tr>\n",
       "      <th>2</th>\n",
       "      <td>3</td>\n",
       "      <td>1</td>\n",
       "      <td>2.0</td>\n",
       "      <td>48</td>\n",
       "    </tr>\n",
       "    <tr>\n",
       "      <th>3</th>\n",
       "      <td>3</td>\n",
       "      <td>1</td>\n",
       "      <td>2.0</td>\n",
       "      <td>49</td>\n",
       "    </tr>\n",
       "    <tr>\n",
       "      <th>4</th>\n",
       "      <td>3</td>\n",
       "      <td>1</td>\n",
       "      <td>2.0</td>\n",
       "      <td>47</td>\n",
       "    </tr>\n",
       "    <tr>\n",
       "      <th>...</th>\n",
       "      <td>...</td>\n",
       "      <td>...</td>\n",
       "      <td>...</td>\n",
       "      <td>...</td>\n",
       "    </tr>\n",
       "    <tr>\n",
       "      <th>166</th>\n",
       "      <td>4</td>\n",
       "      <td>2</td>\n",
       "      <td>1.0</td>\n",
       "      <td>36</td>\n",
       "    </tr>\n",
       "    <tr>\n",
       "      <th>167</th>\n",
       "      <td>4</td>\n",
       "      <td>2</td>\n",
       "      <td>1.0</td>\n",
       "      <td>36</td>\n",
       "    </tr>\n",
       "    <tr>\n",
       "      <th>168</th>\n",
       "      <td>4</td>\n",
       "      <td>2</td>\n",
       "      <td>1.0</td>\n",
       "      <td>24</td>\n",
       "    </tr>\n",
       "    <tr>\n",
       "      <th>169</th>\n",
       "      <td>4</td>\n",
       "      <td>2</td>\n",
       "      <td>1.0</td>\n",
       "      <td>36</td>\n",
       "    </tr>\n",
       "    <tr>\n",
       "      <th>170</th>\n",
       "      <td>4</td>\n",
       "      <td>2</td>\n",
       "      <td>0.0</td>\n",
       "      <td>40</td>\n",
       "    </tr>\n",
       "  </tbody>\n",
       "</table>\n",
       "<p>171 rows × 4 columns</p>\n",
       "</div>"
      ],
      "text/plain": [
       "     retailer_type  retailer_detail  food_type  food_detail\n",
       "0                3                1        2.0           49\n",
       "1                3                1        2.0           49\n",
       "2                3                1        2.0           48\n",
       "3                3                1        2.0           49\n",
       "4                3                1        2.0           47\n",
       "..             ...              ...        ...          ...\n",
       "166              4                2        1.0           36\n",
       "167              4                2        1.0           36\n",
       "168              4                2        1.0           24\n",
       "169              4                2        1.0           36\n",
       "170              4                2        0.0           40\n",
       "\n",
       "[171 rows x 4 columns]"
      ]
     },
     "execution_count": 26,
     "metadata": {},
     "output_type": "execute_result"
    }
   ],
   "source": [
    "data1 = data_frame[~((data_frame < (Q1 - 1.5*IQR)) | (data_frame > (Q3 + 1.5*IQR)))]\n",
    "data1"
   ]
  },
  {
   "cell_type": "code",
   "execution_count": 27,
   "id": "87af3016",
   "metadata": {},
   "outputs": [
    {
     "name": "stderr",
     "output_type": "stream",
     "text": [
      "C:\\Users\\prajw\\Anaconda3\\lib\\site-packages\\seaborn\\_decorators.py:36: FutureWarning: Pass the following variable as a keyword arg: x. From version 0.12, the only valid positional argument will be `data`, and passing other arguments without an explicit keyword will result in an error or misinterpretation.\n",
      "  warnings.warn(\n"
     ]
    },
    {
     "data": {
      "text/plain": [
       "<AxesSubplot:xlabel='retailer_detail'>"
      ]
     },
     "execution_count": 27,
     "metadata": {},
     "output_type": "execute_result"
    },
    {
     "data": {
      "image/png": "[encoded data removed]",
      "text/plain": [
       "<Figure size 432x288 with 1 Axes>"
      ]
     },
     "metadata": {
      "needs_background": "light"
     },
     "output_type": "display_data"
    }
   ],
   "source": [
    "sns.boxplot('retailer_detail', data = data1)"
   ]
  },
  {
   "cell_type": "markdown",
   "id": "3455bdfe",
   "metadata": {},
   "source": [
    "### Checking Correlation "
   ]
  },
  {
   "cell_type": "code",
   "execution_count": 28,
   "id": "4622514a",
   "metadata": {},
   "outputs": [
    {
     "data": {
      "text/plain": [
       "<AxesSubplot:>"
      ]
     },
     "execution_count": 28,
     "metadata": {},
     "output_type": "execute_result"
    },
    {
     "data": {
      "image/png": "[encoded data removed]",
      "text/plain": [
       "<Figure size 432x288 with 2 Axes>"
      ]
     },
     "metadata": {
      "needs_background": "light"
     },
     "output_type": "display_data"
    }
   ],
   "source": [
    "Pearson_corr = data1.corr()\n",
    "sns.heatmap(Pearson_corr, vmax = 1, vmin = -1, cmap = 'RdBu', annot=True)"
   ]
  },
  {
   "cell_type": "code",
   "execution_count": 29,
   "id": "7538371e",
   "metadata": {},
   "outputs": [
    {
     "data": {
      "text/plain": [
       "<AxesSubplot:xlabel='retailer_type', ylabel='food_type'>"
      ]
     },
     "execution_count": 29,
     "metadata": {},
     "output_type": "execute_result"
    },
    {
     "data": {
      "image/png": "[encoded data removed]",
      "text/plain": [
       "<Figure size 432x288 with 1 Axes>"
      ]
     },
     "metadata": {
      "needs_background": "light"
     },
     "output_type": "display_data"
    }
   ],
   "source": [
    "sns.scatterplot(x = 'retailer_type', y = 'food_type', data = data1, palette=('Red', 'Green'))"
   ]
  },
  {
   "cell_type": "markdown",
   "id": "ac4a584a",
   "metadata": {},
   "source": [
    "### Creating X and Y variables for Training and Testing of Data"
   ]
  },
  {
   "cell_type": "code",
   "execution_count": 30,
   "id": "de435c5c",
   "metadata": {},
   "outputs": [
    {
     "data": {
      "text/html": [
       "<div>\n",
       "<style scoped>\n",
       "    .dataframe tbody tr th:only-of-type {\n",
       "        vertical-align: middle;\n",
       "    }\n",
       "\n",
       "    .dataframe tbody tr th {\n",
       "        vertical-align: top;\n",
       "    }\n",
       "\n",
       "    .dataframe thead th {\n",
       "        text-align: right;\n",
       "    }\n",
       "</style>\n",
       "<table border=\"1\" class=\"dataframe\">\n",
       "  <thead>\n",
       "    <tr style=\"text-align: right;\">\n",
       "      <th></th>\n",
       "      <th>retailer_type</th>\n",
       "      <th>retailer_detail</th>\n",
       "      <th>food_detail</th>\n",
       "    </tr>\n",
       "  </thead>\n",
       "  <tbody>\n",
       "    <tr>\n",
       "      <th>0</th>\n",
       "      <td>3</td>\n",
       "      <td>1</td>\n",
       "      <td>49</td>\n",
       "    </tr>\n",
       "    <tr>\n",
       "      <th>1</th>\n",
       "      <td>3</td>\n",
       "      <td>1</td>\n",
       "      <td>49</td>\n",
       "    </tr>\n",
       "    <tr>\n",
       "      <th>2</th>\n",
       "      <td>3</td>\n",
       "      <td>1</td>\n",
       "      <td>48</td>\n",
       "    </tr>\n",
       "    <tr>\n",
       "      <th>3</th>\n",
       "      <td>3</td>\n",
       "      <td>1</td>\n",
       "      <td>49</td>\n",
       "    </tr>\n",
       "    <tr>\n",
       "      <th>4</th>\n",
       "      <td>3</td>\n",
       "      <td>1</td>\n",
       "      <td>47</td>\n",
       "    </tr>\n",
       "    <tr>\n",
       "      <th>...</th>\n",
       "      <td>...</td>\n",
       "      <td>...</td>\n",
       "      <td>...</td>\n",
       "    </tr>\n",
       "    <tr>\n",
       "      <th>166</th>\n",
       "      <td>4</td>\n",
       "      <td>2</td>\n",
       "      <td>36</td>\n",
       "    </tr>\n",
       "    <tr>\n",
       "      <th>167</th>\n",
       "      <td>4</td>\n",
       "      <td>2</td>\n",
       "      <td>36</td>\n",
       "    </tr>\n",
       "    <tr>\n",
       "      <th>168</th>\n",
       "      <td>4</td>\n",
       "      <td>2</td>\n",
       "      <td>24</td>\n",
       "    </tr>\n",
       "    <tr>\n",
       "      <th>169</th>\n",
       "      <td>4</td>\n",
       "      <td>2</td>\n",
       "      <td>36</td>\n",
       "    </tr>\n",
       "    <tr>\n",
       "      <th>170</th>\n",
       "      <td>4</td>\n",
       "      <td>2</td>\n",
       "      <td>40</td>\n",
       "    </tr>\n",
       "  </tbody>\n",
       "</table>\n",
       "<p>171 rows × 3 columns</p>\n",
       "</div>"
      ],
      "text/plain": [
       "     retailer_type  retailer_detail  food_detail\n",
       "0                3                1           49\n",
       "1                3                1           49\n",
       "2                3                1           48\n",
       "3                3                1           49\n",
       "4                3                1           47\n",
       "..             ...              ...          ...\n",
       "166              4                2           36\n",
       "167              4                2           36\n",
       "168              4                2           24\n",
       "169              4                2           36\n",
       "170              4                2           40\n",
       "\n",
       "[171 rows x 3 columns]"
      ]
     },
     "execution_count": 30,
     "metadata": {},
     "output_type": "execute_result"
    }
   ],
   "source": [
    "X = data1.drop('food_type', axis = 'columns')\n",
    "X"
   ]
  },
  {
   "cell_type": "code",
   "execution_count": 31,
   "id": "8ace5021",
   "metadata": {},
   "outputs": [
    {
     "data": {
      "text/plain": [
       "0      2.0\n",
       "1      2.0\n",
       "2      2.0\n",
       "3      2.0\n",
       "4      2.0\n",
       "      ... \n",
       "166    1.0\n",
       "167    1.0\n",
       "168    1.0\n",
       "169    1.0\n",
       "170    0.0\n",
       "Name: food_type, Length: 171, dtype: float64"
      ]
     },
     "execution_count": 31,
     "metadata": {},
     "output_type": "execute_result"
    }
   ],
   "source": [
    "y = data1['food_type']\n",
    "y"
   ]
  },
  {
   "cell_type": "markdown",
   "id": "d538a8b6",
   "metadata": {},
   "source": [
    "### Found Some Null values in food_type So Handling of Null Values"
   ]
  },
  {
   "cell_type": "code",
   "execution_count": 32,
   "id": "dfe5693b",
   "metadata": {},
   "outputs": [],
   "source": [
    "y.isnull().sum()  # Checking of Null Values\n",
    "\n",
    "# Evaluating the Null Values by ffilling \n",
    "y = y.fillna(method='ffill')"
   ]
  },
  {
   "cell_type": "markdown",
   "id": "89bf8267",
   "metadata": {},
   "source": [
    "### Now Training and Testing of Data using Train Test Split method"
   ]
  },
  {
   "cell_type": "code",
   "execution_count": 33,
   "id": "0568f48c",
   "metadata": {},
   "outputs": [],
   "source": [
    "X_train, X_test, y_train, y_test = train_test_split(X, y, test_size = 0.2, random_state = 1)"
   ]
  },
  {
   "cell_type": "markdown",
   "id": "708d696a",
   "metadata": {},
   "source": [
    "### Model Creation and Fitting the model"
   ]
  },
  {
   "cell_type": "code",
   "execution_count": 34,
   "id": "adad3d98",
   "metadata": {},
   "outputs": [
    {
     "data": {
      "text/plain": [
       "GaussianNB()"
      ]
     },
     "execution_count": 34,
     "metadata": {},
     "output_type": "execute_result"
    }
   ],
   "source": [
    "GNB_model = GaussianNB()\n",
    "GNB_model.fit(X_train, y_train)"
   ]
  },
  {
   "cell_type": "code",
   "execution_count": 35,
   "id": "27331fb3",
   "metadata": {},
   "outputs": [
    {
     "data": {
      "text/plain": [
       "DecisionTreeClassifier()"
      ]
     },
     "execution_count": 35,
     "metadata": {},
     "output_type": "execute_result"
    }
   ],
   "source": [
    "DTC_model = DecisionTreeClassifier()\n",
    "DTC_model.fit(X_train, y_train)"
   ]
  },
  {
   "cell_type": "code",
   "execution_count": 36,
   "id": "7d43128a",
   "metadata": {},
   "outputs": [
    {
     "data": {
      "text/plain": [
       "RandomForestClassifier()"
      ]
     },
     "execution_count": 36,
     "metadata": {},
     "output_type": "execute_result"
    }
   ],
   "source": [
    "RFC_model = RandomForestClassifier()\n",
    "RFC_model.fit(X_train, y_train)"
   ]
  },
  {
   "cell_type": "markdown",
   "id": "7e79c15f",
   "metadata": {},
   "source": [
    "### Checking Score of All Above Models "
   ]
  },
  {
   "cell_type": "code",
   "execution_count": 37,
   "id": "891d7830",
   "metadata": {},
   "outputs": [
    {
     "data": {
      "text/plain": [
       "0.8088235294117647"
      ]
     },
     "execution_count": 37,
     "metadata": {},
     "output_type": "execute_result"
    }
   ],
   "source": [
    "GNB_model.score(X_train, y_train)"
   ]
  },
  {
   "cell_type": "code",
   "execution_count": 38,
   "id": "76a4e376",
   "metadata": {},
   "outputs": [
    {
     "data": {
      "text/plain": [
       "1.0"
      ]
     },
     "execution_count": 38,
     "metadata": {},
     "output_type": "execute_result"
    }
   ],
   "source": [
    "DTC_model.score(X_train, y_train)"
   ]
  },
  {
   "cell_type": "code",
   "execution_count": 39,
   "id": "227b1f25",
   "metadata": {},
   "outputs": [
    {
     "data": {
      "text/plain": [
       "1.0"
      ]
     },
     "execution_count": 39,
     "metadata": {},
     "output_type": "execute_result"
    }
   ],
   "source": [
    "RFC_model.score(X_train, y_train)"
   ]
  },
  {
   "cell_type": "markdown",
   "id": "5787c885",
   "metadata": {},
   "source": [
    "### Testing of Predicted Values"
   ]
  },
  {
   "cell_type": "code",
   "execution_count": 40,
   "id": "e2367342",
   "metadata": {},
   "outputs": [],
   "source": [
    "predicted = RFC_model.predict(X_test)"
   ]
  },
  {
   "cell_type": "code",
   "execution_count": 41,
   "id": "4be7622d",
   "metadata": {},
   "outputs": [
    {
     "data": {
      "text/plain": [
       "array([0., 1., 1., 0., 2., 1., 1., 1., 0., 1., 1., 2., 1., 1., 1., 1., 1.,\n",
       "       1., 0., 1., 1., 0., 0., 0., 2., 0., 2., 1., 1., 1., 0., 1., 1., 0.,\n",
       "       0.])"
      ]
     },
     "execution_count": 41,
     "metadata": {},
     "output_type": "execute_result"
    }
   ],
   "source": [
    "predicted"
   ]
  },
  {
   "cell_type": "code",
   "execution_count": 44,
   "id": "1dccd60d",
   "metadata": {},
   "outputs": [
    {
     "data": {
      "text/plain": [
       "array([2.])"
      ]
     },
     "execution_count": 44,
     "metadata": {},
     "output_type": "execute_result"
    }
   ],
   "source": [
    "RFC_model.predict([[3,1,49]])"
   ]
  },
  {
   "cell_type": "code",
   "execution_count": 45,
   "id": "ff826ff5",
   "metadata": {},
   "outputs": [
    {
     "data": {
      "text/html": [
       "<div>\n",
       "<style scoped>\n",
       "    .dataframe tbody tr th:only-of-type {\n",
       "        vertical-align: middle;\n",
       "    }\n",
       "\n",
       "    .dataframe tbody tr th {\n",
       "        vertical-align: top;\n",
       "    }\n",
       "\n",
       "    .dataframe thead th {\n",
       "        text-align: right;\n",
       "    }\n",
       "</style>\n",
       "<table border=\"1\" class=\"dataframe\">\n",
       "  <thead>\n",
       "    <tr style=\"text-align: right;\">\n",
       "      <th></th>\n",
       "      <th>Actual Values</th>\n",
       "      <th>Predicted</th>\n",
       "    </tr>\n",
       "  </thead>\n",
       "  <tbody>\n",
       "    <tr>\n",
       "      <th>92</th>\n",
       "      <td>0.0</td>\n",
       "      <td>0.0</td>\n",
       "    </tr>\n",
       "    <tr>\n",
       "      <th>113</th>\n",
       "      <td>1.0</td>\n",
       "      <td>1.0</td>\n",
       "    </tr>\n",
       "    <tr>\n",
       "      <th>19</th>\n",
       "      <td>1.0</td>\n",
       "      <td>1.0</td>\n",
       "    </tr>\n",
       "    <tr>\n",
       "      <th>69</th>\n",
       "      <td>0.0</td>\n",
       "      <td>0.0</td>\n",
       "    </tr>\n",
       "    <tr>\n",
       "      <th>53</th>\n",
       "      <td>2.0</td>\n",
       "      <td>2.0</td>\n",
       "    </tr>\n",
       "    <tr>\n",
       "      <th>161</th>\n",
       "      <td>1.0</td>\n",
       "      <td>1.0</td>\n",
       "    </tr>\n",
       "    <tr>\n",
       "      <th>108</th>\n",
       "      <td>1.0</td>\n",
       "      <td>1.0</td>\n",
       "    </tr>\n",
       "    <tr>\n",
       "      <th>14</th>\n",
       "      <td>1.0</td>\n",
       "      <td>1.0</td>\n",
       "    </tr>\n",
       "    <tr>\n",
       "      <th>99</th>\n",
       "      <td>0.0</td>\n",
       "      <td>0.0</td>\n",
       "    </tr>\n",
       "    <tr>\n",
       "      <th>107</th>\n",
       "      <td>1.0</td>\n",
       "      <td>1.0</td>\n",
       "    </tr>\n",
       "    <tr>\n",
       "      <th>11</th>\n",
       "      <td>1.0</td>\n",
       "      <td>1.0</td>\n",
       "    </tr>\n",
       "    <tr>\n",
       "      <th>4</th>\n",
       "      <td>2.0</td>\n",
       "      <td>2.0</td>\n",
       "    </tr>\n",
       "    <tr>\n",
       "      <th>117</th>\n",
       "      <td>1.0</td>\n",
       "      <td>1.0</td>\n",
       "    </tr>\n",
       "    <tr>\n",
       "      <th>42</th>\n",
       "      <td>1.0</td>\n",
       "      <td>1.0</td>\n",
       "    </tr>\n",
       "    <tr>\n",
       "      <th>122</th>\n",
       "      <td>1.0</td>\n",
       "      <td>1.0</td>\n",
       "    </tr>\n",
       "    <tr>\n",
       "      <th>125</th>\n",
       "      <td>1.0</td>\n",
       "      <td>1.0</td>\n",
       "    </tr>\n",
       "    <tr>\n",
       "      <th>147</th>\n",
       "      <td>1.0</td>\n",
       "      <td>1.0</td>\n",
       "    </tr>\n",
       "    <tr>\n",
       "      <th>35</th>\n",
       "      <td>1.0</td>\n",
       "      <td>1.0</td>\n",
       "    </tr>\n",
       "    <tr>\n",
       "      <th>81</th>\n",
       "      <td>0.0</td>\n",
       "      <td>0.0</td>\n",
       "    </tr>\n",
       "    <tr>\n",
       "      <th>31</th>\n",
       "      <td>1.0</td>\n",
       "      <td>1.0</td>\n",
       "    </tr>\n",
       "    <tr>\n",
       "      <th>51</th>\n",
       "      <td>1.0</td>\n",
       "      <td>1.0</td>\n",
       "    </tr>\n",
       "    <tr>\n",
       "      <th>75</th>\n",
       "      <td>0.0</td>\n",
       "      <td>0.0</td>\n",
       "    </tr>\n",
       "    <tr>\n",
       "      <th>78</th>\n",
       "      <td>0.0</td>\n",
       "      <td>0.0</td>\n",
       "    </tr>\n",
       "    <tr>\n",
       "      <th>73</th>\n",
       "      <td>0.0</td>\n",
       "      <td>0.0</td>\n",
       "    </tr>\n",
       "    <tr>\n",
       "      <th>40</th>\n",
       "      <td>1.0</td>\n",
       "      <td>2.0</td>\n",
       "    </tr>\n",
       "    <tr>\n",
       "      <th>84</th>\n",
       "      <td>0.0</td>\n",
       "      <td>0.0</td>\n",
       "    </tr>\n",
       "    <tr>\n",
       "      <th>47</th>\n",
       "      <td>2.0</td>\n",
       "      <td>2.0</td>\n",
       "    </tr>\n",
       "    <tr>\n",
       "      <th>29</th>\n",
       "      <td>1.0</td>\n",
       "      <td>1.0</td>\n",
       "    </tr>\n",
       "    <tr>\n",
       "      <th>16</th>\n",
       "      <td>1.0</td>\n",
       "      <td>1.0</td>\n",
       "    </tr>\n",
       "    <tr>\n",
       "      <th>105</th>\n",
       "      <td>1.0</td>\n",
       "      <td>1.0</td>\n",
       "    </tr>\n",
       "    <tr>\n",
       "      <th>85</th>\n",
       "      <td>0.0</td>\n",
       "      <td>0.0</td>\n",
       "    </tr>\n",
       "    <tr>\n",
       "      <th>154</th>\n",
       "      <td>1.0</td>\n",
       "      <td>1.0</td>\n",
       "    </tr>\n",
       "    <tr>\n",
       "      <th>157</th>\n",
       "      <td>1.0</td>\n",
       "      <td>1.0</td>\n",
       "    </tr>\n",
       "    <tr>\n",
       "      <th>5</th>\n",
       "      <td>0.0</td>\n",
       "      <td>0.0</td>\n",
       "    </tr>\n",
       "    <tr>\n",
       "      <th>94</th>\n",
       "      <td>0.0</td>\n",
       "      <td>0.0</td>\n",
       "    </tr>\n",
       "  </tbody>\n",
       "</table>\n",
       "</div>"
      ],
      "text/plain": [
       "     Actual Values  Predicted\n",
       "92             0.0        0.0\n",
       "113            1.0        1.0\n",
       "19             1.0        1.0\n",
       "69             0.0        0.0\n",
       "53             2.0        2.0\n",
       "161            1.0        1.0\n",
       "108            1.0        1.0\n",
       "14             1.0        1.0\n",
       "99             0.0        0.0\n",
       "107            1.0        1.0\n",
       "11             1.0        1.0\n",
       "4              2.0        2.0\n",
       "117            1.0        1.0\n",
       "42             1.0        1.0\n",
       "122            1.0        1.0\n",
       "125            1.0        1.0\n",
       "147            1.0        1.0\n",
       "35             1.0        1.0\n",
       "81             0.0        0.0\n",
       "31             1.0        1.0\n",
       "51             1.0        1.0\n",
       "75             0.0        0.0\n",
       "78             0.0        0.0\n",
       "73             0.0        0.0\n",
       "40             1.0        2.0\n",
       "84             0.0        0.0\n",
       "47             2.0        2.0\n",
       "29             1.0        1.0\n",
       "16             1.0        1.0\n",
       "105            1.0        1.0\n",
       "85             0.0        0.0\n",
       "154            1.0        1.0\n",
       "157            1.0        1.0\n",
       "5              0.0        0.0\n",
       "94             0.0        0.0"
      ]
     },
     "execution_count": 45,
     "metadata": {},
     "output_type": "execute_result"
    }
   ],
   "source": [
    "Final_Data = pd.DataFrame({'Actual Values' : y_test, 'Predicted' : predicted})\n",
    "Final_Data"
   ]
  },
  {
   "cell_type": "markdown",
   "id": "fe465198",
   "metadata": {},
   "source": [
    "### Confusion Matrix "
   ]
  },
  {
   "cell_type": "code",
   "execution_count": 46,
   "id": "44854256",
   "metadata": {},
   "outputs": [
    {
     "data": {
      "text/plain": [
       "array([[11,  0,  0],\n",
       "       [ 0, 20,  1],\n",
       "       [ 0,  0,  3]], dtype=int64)"
      ]
     },
     "execution_count": 46,
     "metadata": {},
     "output_type": "execute_result"
    }
   ],
   "source": [
    "result = confusion_matrix(y_test, predicted)\n",
    "result"
   ]
  },
  {
   "cell_type": "code",
   "execution_count": null,
   "id": "559ecd18",
   "metadata": {},
   "outputs": [],
   "source": []
  }
 ],
 "metadata": {
  "kernelspec": {
   "display_name": "Python 3",
   "language": "python",
   "name": "python3"
  },
  "language_info": {
   "codemirror_mode": {
    "name": "ipython",
    "version": 3
   },
   "file_extension": ".py",
   "mimetype": "text/x-python",
   "name": "python",
   "nbconvert_exporter": "python",
   "pygments_lexer": "ipython3",
   "version": "3.8.8"
  }
 },
 "nbformat": 4,
 "nbformat_minor": 5
}
